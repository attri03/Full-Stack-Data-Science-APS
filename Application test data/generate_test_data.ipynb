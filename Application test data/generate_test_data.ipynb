{
 "cells": [
  {
   "cell_type": "code",
   "execution_count": 17,
   "id": "4846b396",
   "metadata": {},
   "outputs": [],
   "source": [
    "import pandas as pd\n",
    "import os\n",
    "import numpy as np\n",
    "import json"
   ]
  },
  {
   "cell_type": "code",
   "execution_count": 18,
   "id": "91e4f429",
   "metadata": {},
   "outputs": [],
   "source": [
    "df = pd.read_csv(r\"C:\\Full-Stack-Data-Science-APS\\artifact\\10_17_2025_02_52_52\\data_ingestion\\processed_data\\test_data.csv\")"
   ]
  },
  {
   "cell_type": "code",
   "execution_count": 19,
   "id": "3083a2af",
   "metadata": {},
   "outputs": [],
   "source": [
    "neg_class = df[df['class'] == \"neg\"].reset_index(drop =True)\n",
    "pos_class = df[df['class'] == \"pos\"].reset_index(drop =True)"
   ]
  },
  {
   "cell_type": "code",
   "execution_count": 21,
   "id": "bc4202c8",
   "metadata": {},
   "outputs": [],
   "source": [
    "input_folder = os.path.join(\"Application test data\", \"Input data\")\n",
    "output_folder = os.path.join(\"Application test data\", \"Output data\")\n",
    "os.makedirs(input_folder, exist_ok = True)\n",
    "os.makedirs(output_folder, exist_ok = True)\n",
    "\n",
    "for i in range(0, 10):\n",
    "    #input\n",
    "    pos_dict_input = pos_class.drop(\"class\", axis = 1).iloc[[i]].to_dict(orient='list')\n",
    "    neg_dict_input = neg_class.drop(\"class\", axis = 1).iloc[[i]].to_dict(orient='list')\n",
    "    #output\n",
    "    pos_dict_output = pos_class[[\"class\"]].iloc[[i]].to_dict(orient='list')\n",
    "    neg_dict_output = neg_class[[\"class\"]].iloc[[i]].to_dict(orient='list')\n",
    "\n",
    "    with open(os.path.join(input_folder, f\"test_file_{i}_pos.json\"), \"w\") as f:\n",
    "        json.dump(pos_dict_input, f, indent=4)\n",
    "    with open(os.path.join(input_folder, f\"test_file_{i}_neg.json\"), \"w\") as f:\n",
    "        json.dump(neg_dict_input, f, indent=4)\n",
    "\n",
    "    with open(os.path.join(output_folder, f\"test_file_{i}_pos.json\"), \"w\") as f:\n",
    "        json.dump(pos_dict_output, f, indent=4)\n",
    "    with open(os.path.join(output_folder, f\"test_file_{i}_neg.json\"), \"w\") as f:\n",
    "        json.dump(neg_dict_output, f, indent=4)"
   ]
  },
  {
   "cell_type": "code",
   "execution_count": null,
   "id": "0004517c",
   "metadata": {},
   "outputs": [],
   "source": []
  }
 ],
 "metadata": {
  "kernelspec": {
   "display_name": "APSSensor",
   "language": "python",
   "name": "python3"
  },
  "language_info": {
   "codemirror_mode": {
    "name": "ipython",
    "version": 3
   },
   "file_extension": ".py",
   "mimetype": "text/x-python",
   "name": "python",
   "nbconvert_exporter": "python",
   "pygments_lexer": "ipython3",
   "version": "3.10.18"
  }
 },
 "nbformat": 4,
 "nbformat_minor": 5
}
